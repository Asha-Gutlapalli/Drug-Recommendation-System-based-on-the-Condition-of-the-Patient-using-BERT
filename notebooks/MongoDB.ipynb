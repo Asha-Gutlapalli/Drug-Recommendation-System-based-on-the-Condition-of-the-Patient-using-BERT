{
 "cells": [
  {
   "cell_type": "markdown",
   "metadata": {},
   "source": [
    "## Import Packages"
   ]
  },
  {
   "cell_type": "code",
   "execution_count": 1,
   "metadata": {},
   "outputs": [],
   "source": [
    "import warnings\n",
    "\n",
    "from datetime import datetime\n",
    "\n",
    "import numpy as np\n",
    "import pandas as pd\n",
    "\n",
    "import pymongo\n",
    "from pymongo import MongoClient"
   ]
  },
  {
   "cell_type": "markdown",
   "metadata": {},
   "source": [
    "## Connect to MongoDB"
   ]
  },
  {
   "cell_type": "code",
   "execution_count": 2,
   "metadata": {},
   "outputs": [],
   "source": [
    "username = 'username'\n",
    "password = 'password'\n",
    "client = MongoClient('mongodb://%s:%s@127.0.0.1' % (username, password))"
   ]
  },
  {
   "cell_type": "markdown",
   "metadata": {},
   "source": [
    "## Databases"
   ]
  },
  {
   "cell_type": "code",
   "execution_count": 3,
   "metadata": {},
   "outputs": [
    {
     "data": {
      "text/plain": [
       "['admin', 'config', 'local']"
      ]
     },
     "execution_count": 3,
     "metadata": {},
     "output_type": "execute_result"
    }
   ],
   "source": [
    "warnings.filterwarnings(\"ignore\")\n",
    "\n",
    "client.database_names()"
   ]
  },
  {
   "cell_type": "markdown",
   "metadata": {},
   "source": [
    "## Create Collection"
   ]
  },
  {
   "cell_type": "code",
   "execution_count": 4,
   "metadata": {},
   "outputs": [],
   "source": [
    "db = client['admin']\n",
    "drugs = db['drugs']"
   ]
  },
  {
   "cell_type": "markdown",
   "metadata": {},
   "source": [
    "## Data"
   ]
  },
  {
   "cell_type": "code",
   "execution_count": 6,
   "metadata": {},
   "outputs": [
    {
     "data": {
      "text/html": [
       "<div>\n",
       "<style scoped>\n",
       "    .dataframe tbody tr th:only-of-type {\n",
       "        vertical-align: middle;\n",
       "    }\n",
       "\n",
       "    .dataframe tbody tr th {\n",
       "        vertical-align: top;\n",
       "    }\n",
       "\n",
       "    .dataframe thead th {\n",
       "        text-align: right;\n",
       "    }\n",
       "</style>\n",
       "<table border=\"1\" class=\"dataframe\">\n",
       "  <thead>\n",
       "    <tr style=\"text-align: right;\">\n",
       "      <th></th>\n",
       "      <th>NaN</th>\n",
       "      <th>drugName</th>\n",
       "      <th>condition</th>\n",
       "      <th>review</th>\n",
       "      <th>rating</th>\n",
       "      <th>date</th>\n",
       "      <th>usefulCount</th>\n",
       "    </tr>\n",
       "  </thead>\n",
       "  <tbody>\n",
       "    <tr>\n",
       "      <th>0</th>\n",
       "      <td>206461</td>\n",
       "      <td>Valsartan</td>\n",
       "      <td>Left Ventricular Dysfunction</td>\n",
       "      <td>\"It has no side effect, I take it in combinati...</td>\n",
       "      <td>9.0</td>\n",
       "      <td>May 20, 2012</td>\n",
       "      <td>27</td>\n",
       "    </tr>\n",
       "    <tr>\n",
       "      <th>1</th>\n",
       "      <td>95260</td>\n",
       "      <td>Guanfacine</td>\n",
       "      <td>ADHD</td>\n",
       "      <td>\"My son is halfway through his fourth week of ...</td>\n",
       "      <td>8.0</td>\n",
       "      <td>April 27, 2010</td>\n",
       "      <td>192</td>\n",
       "    </tr>\n",
       "    <tr>\n",
       "      <th>2</th>\n",
       "      <td>92703</td>\n",
       "      <td>Lybrel</td>\n",
       "      <td>Birth Control</td>\n",
       "      <td>\"I used to take another oral contraceptive, wh...</td>\n",
       "      <td>5.0</td>\n",
       "      <td>December 14, 2009</td>\n",
       "      <td>17</td>\n",
       "    </tr>\n",
       "    <tr>\n",
       "      <th>3</th>\n",
       "      <td>138000</td>\n",
       "      <td>Ortho Evra</td>\n",
       "      <td>Birth Control</td>\n",
       "      <td>\"This is my first time using any form of birth...</td>\n",
       "      <td>8.0</td>\n",
       "      <td>November 3, 2015</td>\n",
       "      <td>10</td>\n",
       "    </tr>\n",
       "    <tr>\n",
       "      <th>4</th>\n",
       "      <td>35696</td>\n",
       "      <td>Buprenorphine / naloxone</td>\n",
       "      <td>Opiate Dependence</td>\n",
       "      <td>\"Suboxone has completely turned my life around...</td>\n",
       "      <td>9.0</td>\n",
       "      <td>November 27, 2016</td>\n",
       "      <td>37</td>\n",
       "    </tr>\n",
       "    <tr>\n",
       "      <th>...</th>\n",
       "      <td>...</td>\n",
       "      <td>...</td>\n",
       "      <td>...</td>\n",
       "      <td>...</td>\n",
       "      <td>...</td>\n",
       "      <td>...</td>\n",
       "      <td>...</td>\n",
       "    </tr>\n",
       "    <tr>\n",
       "      <th>161292</th>\n",
       "      <td>191035</td>\n",
       "      <td>Campral</td>\n",
       "      <td>Alcohol Dependence</td>\n",
       "      <td>\"I wrote my first report in Mid-October of 201...</td>\n",
       "      <td>10.0</td>\n",
       "      <td>May 31, 2015</td>\n",
       "      <td>125</td>\n",
       "    </tr>\n",
       "    <tr>\n",
       "      <th>161293</th>\n",
       "      <td>127085</td>\n",
       "      <td>Metoclopramide</td>\n",
       "      <td>Nausea/Vomiting</td>\n",
       "      <td>\"I was given this in IV before surgey. I immed...</td>\n",
       "      <td>1.0</td>\n",
       "      <td>November 1, 2011</td>\n",
       "      <td>34</td>\n",
       "    </tr>\n",
       "    <tr>\n",
       "      <th>161294</th>\n",
       "      <td>187382</td>\n",
       "      <td>Orencia</td>\n",
       "      <td>Rheumatoid Arthritis</td>\n",
       "      <td>\"Limited improvement after 4 months, developed...</td>\n",
       "      <td>2.0</td>\n",
       "      <td>March 15, 2014</td>\n",
       "      <td>35</td>\n",
       "    </tr>\n",
       "    <tr>\n",
       "      <th>161295</th>\n",
       "      <td>47128</td>\n",
       "      <td>Thyroid desiccated</td>\n",
       "      <td>Underactive Thyroid</td>\n",
       "      <td>\"I&amp;#039;ve been on thyroid medication 49 years...</td>\n",
       "      <td>10.0</td>\n",
       "      <td>September 19, 2015</td>\n",
       "      <td>79</td>\n",
       "    </tr>\n",
       "    <tr>\n",
       "      <th>161296</th>\n",
       "      <td>215220</td>\n",
       "      <td>Lubiprostone</td>\n",
       "      <td>Constipation, Chronic</td>\n",
       "      <td>\"I&amp;#039;ve had chronic constipation all my adu...</td>\n",
       "      <td>9.0</td>\n",
       "      <td>December 13, 2014</td>\n",
       "      <td>116</td>\n",
       "    </tr>\n",
       "  </tbody>\n",
       "</table>\n",
       "<p>161297 rows × 7 columns</p>\n",
       "</div>"
      ],
      "text/plain": [
       "           NaN                  drugName                     condition  \\\n",
       "0       206461                 Valsartan  Left Ventricular Dysfunction   \n",
       "1        95260                Guanfacine                          ADHD   \n",
       "2        92703                    Lybrel                 Birth Control   \n",
       "3       138000                Ortho Evra                 Birth Control   \n",
       "4        35696  Buprenorphine / naloxone             Opiate Dependence   \n",
       "...        ...                       ...                           ...   \n",
       "161292  191035                   Campral            Alcohol Dependence   \n",
       "161293  127085            Metoclopramide               Nausea/Vomiting   \n",
       "161294  187382                   Orencia          Rheumatoid Arthritis   \n",
       "161295   47128        Thyroid desiccated           Underactive Thyroid   \n",
       "161296  215220              Lubiprostone         Constipation, Chronic   \n",
       "\n",
       "                                                   review  rating  \\\n",
       "0       \"It has no side effect, I take it in combinati...     9.0   \n",
       "1       \"My son is halfway through his fourth week of ...     8.0   \n",
       "2       \"I used to take another oral contraceptive, wh...     5.0   \n",
       "3       \"This is my first time using any form of birth...     8.0   \n",
       "4       \"Suboxone has completely turned my life around...     9.0   \n",
       "...                                                   ...     ...   \n",
       "161292  \"I wrote my first report in Mid-October of 201...    10.0   \n",
       "161293  \"I was given this in IV before surgey. I immed...     1.0   \n",
       "161294  \"Limited improvement after 4 months, developed...     2.0   \n",
       "161295  \"I&#039;ve been on thyroid medication 49 years...    10.0   \n",
       "161296  \"I&#039;ve had chronic constipation all my adu...     9.0   \n",
       "\n",
       "                      date  usefulCount  \n",
       "0             May 20, 2012           27  \n",
       "1           April 27, 2010          192  \n",
       "2        December 14, 2009           17  \n",
       "3         November 3, 2015           10  \n",
       "4        November 27, 2016           37  \n",
       "...                    ...          ...  \n",
       "161292        May 31, 2015          125  \n",
       "161293    November 1, 2011           34  \n",
       "161294      March 15, 2014           35  \n",
       "161295  September 19, 2015           79  \n",
       "161296   December 13, 2014          116  \n",
       "\n",
       "[161297 rows x 7 columns]"
      ]
     },
     "execution_count": 6,
     "metadata": {},
     "output_type": "execute_result"
    }
   ],
   "source": [
    "data = pd.read_csv(\".data/drugsComTrain_raw.tsv\", delimiter = \"\\t\", header = 0, names = [None, \"drugName\", \"condition\", \"review\", \"rating\", \"date\", \"usefulCount\"])\n",
    "data"
   ]
  },
  {
   "cell_type": "markdown",
   "metadata": {},
   "source": [
    "## Preprocess Data"
   ]
  },
  {
   "cell_type": "markdown",
   "metadata": {},
   "source": [
    "### Label Encoding"
   ]
  },
  {
   "cell_type": "code",
   "execution_count": 7,
   "metadata": {},
   "outputs": [],
   "source": [
    "data['rating'] = data['rating'].apply(lambda x: 1 if x >= 5.0 else 0)"
   ]
  },
  {
   "cell_type": "markdown",
   "metadata": {},
   "source": [
    "### Change Date Format"
   ]
  },
  {
   "cell_type": "code",
   "execution_count": 8,
   "metadata": {},
   "outputs": [],
   "source": [
    "data['date'] = data['date'].apply(lambda x: datetime.strptime(x,\"%B %d, %Y\").strftime(\"%Y/%m/%d\"))"
   ]
  },
  {
   "cell_type": "markdown",
   "metadata": {},
   "source": [
    "### Drop Columns"
   ]
  },
  {
   "cell_type": "code",
   "execution_count": 9,
   "metadata": {},
   "outputs": [],
   "source": [
    "data.drop(data.columns[[0, 6]], axis = 1, inplace = True)"
   ]
  },
  {
   "cell_type": "markdown",
   "metadata": {},
   "source": [
    "### Rename Column Names"
   ]
  },
  {
   "cell_type": "code",
   "execution_count": 10,
   "metadata": {},
   "outputs": [],
   "source": [
    "data.columns = [\"DrugName\", \"Condition\", \"Review\", \"Recommend\", \"Date\"]"
   ]
  },
  {
   "cell_type": "code",
   "execution_count": 11,
   "metadata": {},
   "outputs": [
    {
     "data": {
      "text/html": [
       "<div>\n",
       "<style scoped>\n",
       "    .dataframe tbody tr th:only-of-type {\n",
       "        vertical-align: middle;\n",
       "    }\n",
       "\n",
       "    .dataframe tbody tr th {\n",
       "        vertical-align: top;\n",
       "    }\n",
       "\n",
       "    .dataframe thead th {\n",
       "        text-align: right;\n",
       "    }\n",
       "</style>\n",
       "<table border=\"1\" class=\"dataframe\">\n",
       "  <thead>\n",
       "    <tr style=\"text-align: right;\">\n",
       "      <th></th>\n",
       "      <th>DrugName</th>\n",
       "      <th>Condition</th>\n",
       "      <th>Review</th>\n",
       "      <th>Recommend</th>\n",
       "      <th>Date</th>\n",
       "    </tr>\n",
       "  </thead>\n",
       "  <tbody>\n",
       "    <tr>\n",
       "      <th>0</th>\n",
       "      <td>Valsartan</td>\n",
       "      <td>Left Ventricular Dysfunction</td>\n",
       "      <td>\"It has no side effect, I take it in combinati...</td>\n",
       "      <td>1</td>\n",
       "      <td>2012/05/20</td>\n",
       "    </tr>\n",
       "    <tr>\n",
       "      <th>1</th>\n",
       "      <td>Guanfacine</td>\n",
       "      <td>ADHD</td>\n",
       "      <td>\"My son is halfway through his fourth week of ...</td>\n",
       "      <td>1</td>\n",
       "      <td>2010/04/27</td>\n",
       "    </tr>\n",
       "    <tr>\n",
       "      <th>2</th>\n",
       "      <td>Lybrel</td>\n",
       "      <td>Birth Control</td>\n",
       "      <td>\"I used to take another oral contraceptive, wh...</td>\n",
       "      <td>1</td>\n",
       "      <td>2009/12/14</td>\n",
       "    </tr>\n",
       "    <tr>\n",
       "      <th>3</th>\n",
       "      <td>Ortho Evra</td>\n",
       "      <td>Birth Control</td>\n",
       "      <td>\"This is my first time using any form of birth...</td>\n",
       "      <td>1</td>\n",
       "      <td>2015/11/03</td>\n",
       "    </tr>\n",
       "    <tr>\n",
       "      <th>4</th>\n",
       "      <td>Buprenorphine / naloxone</td>\n",
       "      <td>Opiate Dependence</td>\n",
       "      <td>\"Suboxone has completely turned my life around...</td>\n",
       "      <td>1</td>\n",
       "      <td>2016/11/27</td>\n",
       "    </tr>\n",
       "    <tr>\n",
       "      <th>...</th>\n",
       "      <td>...</td>\n",
       "      <td>...</td>\n",
       "      <td>...</td>\n",
       "      <td>...</td>\n",
       "      <td>...</td>\n",
       "    </tr>\n",
       "    <tr>\n",
       "      <th>161292</th>\n",
       "      <td>Campral</td>\n",
       "      <td>Alcohol Dependence</td>\n",
       "      <td>\"I wrote my first report in Mid-October of 201...</td>\n",
       "      <td>1</td>\n",
       "      <td>2015/05/31</td>\n",
       "    </tr>\n",
       "    <tr>\n",
       "      <th>161293</th>\n",
       "      <td>Metoclopramide</td>\n",
       "      <td>Nausea/Vomiting</td>\n",
       "      <td>\"I was given this in IV before surgey. I immed...</td>\n",
       "      <td>0</td>\n",
       "      <td>2011/11/01</td>\n",
       "    </tr>\n",
       "    <tr>\n",
       "      <th>161294</th>\n",
       "      <td>Orencia</td>\n",
       "      <td>Rheumatoid Arthritis</td>\n",
       "      <td>\"Limited improvement after 4 months, developed...</td>\n",
       "      <td>0</td>\n",
       "      <td>2014/03/15</td>\n",
       "    </tr>\n",
       "    <tr>\n",
       "      <th>161295</th>\n",
       "      <td>Thyroid desiccated</td>\n",
       "      <td>Underactive Thyroid</td>\n",
       "      <td>\"I&amp;#039;ve been on thyroid medication 49 years...</td>\n",
       "      <td>1</td>\n",
       "      <td>2015/09/19</td>\n",
       "    </tr>\n",
       "    <tr>\n",
       "      <th>161296</th>\n",
       "      <td>Lubiprostone</td>\n",
       "      <td>Constipation, Chronic</td>\n",
       "      <td>\"I&amp;#039;ve had chronic constipation all my adu...</td>\n",
       "      <td>1</td>\n",
       "      <td>2014/12/13</td>\n",
       "    </tr>\n",
       "  </tbody>\n",
       "</table>\n",
       "<p>161297 rows × 5 columns</p>\n",
       "</div>"
      ],
      "text/plain": [
       "                        DrugName                     Condition  \\\n",
       "0                      Valsartan  Left Ventricular Dysfunction   \n",
       "1                     Guanfacine                          ADHD   \n",
       "2                         Lybrel                 Birth Control   \n",
       "3                     Ortho Evra                 Birth Control   \n",
       "4       Buprenorphine / naloxone             Opiate Dependence   \n",
       "...                          ...                           ...   \n",
       "161292                   Campral            Alcohol Dependence   \n",
       "161293            Metoclopramide               Nausea/Vomiting   \n",
       "161294                   Orencia          Rheumatoid Arthritis   \n",
       "161295        Thyroid desiccated           Underactive Thyroid   \n",
       "161296              Lubiprostone         Constipation, Chronic   \n",
       "\n",
       "                                                   Review  Recommend  \\\n",
       "0       \"It has no side effect, I take it in combinati...          1   \n",
       "1       \"My son is halfway through his fourth week of ...          1   \n",
       "2       \"I used to take another oral contraceptive, wh...          1   \n",
       "3       \"This is my first time using any form of birth...          1   \n",
       "4       \"Suboxone has completely turned my life around...          1   \n",
       "...                                                   ...        ...   \n",
       "161292  \"I wrote my first report in Mid-October of 201...          1   \n",
       "161293  \"I was given this in IV before surgey. I immed...          0   \n",
       "161294  \"Limited improvement after 4 months, developed...          0   \n",
       "161295  \"I&#039;ve been on thyroid medication 49 years...          1   \n",
       "161296  \"I&#039;ve had chronic constipation all my adu...          1   \n",
       "\n",
       "              Date  \n",
       "0       2012/05/20  \n",
       "1       2010/04/27  \n",
       "2       2009/12/14  \n",
       "3       2015/11/03  \n",
       "4       2016/11/27  \n",
       "...            ...  \n",
       "161292  2015/05/31  \n",
       "161293  2011/11/01  \n",
       "161294  2014/03/15  \n",
       "161295  2015/09/19  \n",
       "161296  2014/12/13  \n",
       "\n",
       "[161297 rows x 5 columns]"
      ]
     },
     "execution_count": 11,
     "metadata": {},
     "output_type": "execute_result"
    }
   ],
   "source": [
    "data"
   ]
  },
  {
   "cell_type": "markdown",
   "metadata": {},
   "source": [
    "### Convert DataFrame to Dictionary"
   ]
  },
  {
   "cell_type": "code",
   "execution_count": 12,
   "metadata": {},
   "outputs": [],
   "source": [
    "data_dict = data.to_dict(orient = \"records\")"
   ]
  },
  {
   "cell_type": "markdown",
   "metadata": {},
   "source": [
    "## Insert Data"
   ]
  },
  {
   "cell_type": "code",
   "execution_count": 13,
   "metadata": {},
   "outputs": [
    {
     "data": {
      "text/plain": [
       "<pymongo.results.InsertManyResult at 0x7facbce6f408>"
      ]
     },
     "execution_count": 13,
     "metadata": {},
     "output_type": "execute_result"
    }
   ],
   "source": [
    "drugs.insert_many(data_dict)"
   ]
  },
  {
   "cell_type": "markdown",
   "metadata": {},
   "source": [
    "## Check Collections"
   ]
  },
  {
   "cell_type": "code",
   "execution_count": 14,
   "metadata": {},
   "outputs": [
    {
     "data": {
      "text/plain": [
       "['system.version', 'drugs', 'system.users']"
      ]
     },
     "execution_count": 14,
     "metadata": {},
     "output_type": "execute_result"
    }
   ],
   "source": [
    "db.list_collection_names()"
   ]
  },
  {
   "cell_type": "markdown",
   "metadata": {},
   "source": [
    "## Retrieve Data"
   ]
  },
  {
   "cell_type": "code",
   "execution_count": 15,
   "metadata": {},
   "outputs": [],
   "source": [
    "cursor = db[\"drugs\"].find({})"
   ]
  },
  {
   "cell_type": "markdown",
   "metadata": {},
   "source": [
    "## Display Data"
   ]
  },
  {
   "cell_type": "code",
   "execution_count": 16,
   "metadata": {},
   "outputs": [],
   "source": [
    "final_data =  pd.DataFrame(list(cursor))\n",
    "del final_data['_id']"
   ]
  },
  {
   "cell_type": "code",
   "execution_count": 17,
   "metadata": {},
   "outputs": [
    {
     "data": {
      "text/html": [
       "<div>\n",
       "<style scoped>\n",
       "    .dataframe tbody tr th:only-of-type {\n",
       "        vertical-align: middle;\n",
       "    }\n",
       "\n",
       "    .dataframe tbody tr th {\n",
       "        vertical-align: top;\n",
       "    }\n",
       "\n",
       "    .dataframe thead th {\n",
       "        text-align: right;\n",
       "    }\n",
       "</style>\n",
       "<table border=\"1\" class=\"dataframe\">\n",
       "  <thead>\n",
       "    <tr style=\"text-align: right;\">\n",
       "      <th></th>\n",
       "      <th>DrugName</th>\n",
       "      <th>Condition</th>\n",
       "      <th>Review</th>\n",
       "      <th>Recommend</th>\n",
       "      <th>Date</th>\n",
       "    </tr>\n",
       "  </thead>\n",
       "  <tbody>\n",
       "    <tr>\n",
       "      <th>0</th>\n",
       "      <td>Valsartan</td>\n",
       "      <td>Left Ventricular Dysfunction</td>\n",
       "      <td>\"It has no side effect, I take it in combinati...</td>\n",
       "      <td>1</td>\n",
       "      <td>2012/05/20</td>\n",
       "    </tr>\n",
       "    <tr>\n",
       "      <th>1</th>\n",
       "      <td>Guanfacine</td>\n",
       "      <td>ADHD</td>\n",
       "      <td>\"My son is halfway through his fourth week of ...</td>\n",
       "      <td>1</td>\n",
       "      <td>2010/04/27</td>\n",
       "    </tr>\n",
       "    <tr>\n",
       "      <th>2</th>\n",
       "      <td>Lybrel</td>\n",
       "      <td>Birth Control</td>\n",
       "      <td>\"I used to take another oral contraceptive, wh...</td>\n",
       "      <td>1</td>\n",
       "      <td>2009/12/14</td>\n",
       "    </tr>\n",
       "    <tr>\n",
       "      <th>3</th>\n",
       "      <td>Ortho Evra</td>\n",
       "      <td>Birth Control</td>\n",
       "      <td>\"This is my first time using any form of birth...</td>\n",
       "      <td>1</td>\n",
       "      <td>2015/11/03</td>\n",
       "    </tr>\n",
       "    <tr>\n",
       "      <th>4</th>\n",
       "      <td>Buprenorphine / naloxone</td>\n",
       "      <td>Opiate Dependence</td>\n",
       "      <td>\"Suboxone has completely turned my life around...</td>\n",
       "      <td>1</td>\n",
       "      <td>2016/11/27</td>\n",
       "    </tr>\n",
       "    <tr>\n",
       "      <th>...</th>\n",
       "      <td>...</td>\n",
       "      <td>...</td>\n",
       "      <td>...</td>\n",
       "      <td>...</td>\n",
       "      <td>...</td>\n",
       "    </tr>\n",
       "    <tr>\n",
       "      <th>161292</th>\n",
       "      <td>Campral</td>\n",
       "      <td>Alcohol Dependence</td>\n",
       "      <td>\"I wrote my first report in Mid-October of 201...</td>\n",
       "      <td>1</td>\n",
       "      <td>2015/05/31</td>\n",
       "    </tr>\n",
       "    <tr>\n",
       "      <th>161293</th>\n",
       "      <td>Metoclopramide</td>\n",
       "      <td>Nausea/Vomiting</td>\n",
       "      <td>\"I was given this in IV before surgey. I immed...</td>\n",
       "      <td>0</td>\n",
       "      <td>2011/11/01</td>\n",
       "    </tr>\n",
       "    <tr>\n",
       "      <th>161294</th>\n",
       "      <td>Orencia</td>\n",
       "      <td>Rheumatoid Arthritis</td>\n",
       "      <td>\"Limited improvement after 4 months, developed...</td>\n",
       "      <td>0</td>\n",
       "      <td>2014/03/15</td>\n",
       "    </tr>\n",
       "    <tr>\n",
       "      <th>161295</th>\n",
       "      <td>Thyroid desiccated</td>\n",
       "      <td>Underactive Thyroid</td>\n",
       "      <td>\"I&amp;#039;ve been on thyroid medication 49 years...</td>\n",
       "      <td>1</td>\n",
       "      <td>2015/09/19</td>\n",
       "    </tr>\n",
       "    <tr>\n",
       "      <th>161296</th>\n",
       "      <td>Lubiprostone</td>\n",
       "      <td>Constipation, Chronic</td>\n",
       "      <td>\"I&amp;#039;ve had chronic constipation all my adu...</td>\n",
       "      <td>1</td>\n",
       "      <td>2014/12/13</td>\n",
       "    </tr>\n",
       "  </tbody>\n",
       "</table>\n",
       "<p>161297 rows × 5 columns</p>\n",
       "</div>"
      ],
      "text/plain": [
       "                        DrugName                     Condition  \\\n",
       "0                      Valsartan  Left Ventricular Dysfunction   \n",
       "1                     Guanfacine                          ADHD   \n",
       "2                         Lybrel                 Birth Control   \n",
       "3                     Ortho Evra                 Birth Control   \n",
       "4       Buprenorphine / naloxone             Opiate Dependence   \n",
       "...                          ...                           ...   \n",
       "161292                   Campral            Alcohol Dependence   \n",
       "161293            Metoclopramide               Nausea/Vomiting   \n",
       "161294                   Orencia          Rheumatoid Arthritis   \n",
       "161295        Thyroid desiccated           Underactive Thyroid   \n",
       "161296              Lubiprostone         Constipation, Chronic   \n",
       "\n",
       "                                                   Review  Recommend  \\\n",
       "0       \"It has no side effect, I take it in combinati...          1   \n",
       "1       \"My son is halfway through his fourth week of ...          1   \n",
       "2       \"I used to take another oral contraceptive, wh...          1   \n",
       "3       \"This is my first time using any form of birth...          1   \n",
       "4       \"Suboxone has completely turned my life around...          1   \n",
       "...                                                   ...        ...   \n",
       "161292  \"I wrote my first report in Mid-October of 201...          1   \n",
       "161293  \"I was given this in IV before surgey. I immed...          0   \n",
       "161294  \"Limited improvement after 4 months, developed...          0   \n",
       "161295  \"I&#039;ve been on thyroid medication 49 years...          1   \n",
       "161296  \"I&#039;ve had chronic constipation all my adu...          1   \n",
       "\n",
       "              Date  \n",
       "0       2012/05/20  \n",
       "1       2010/04/27  \n",
       "2       2009/12/14  \n",
       "3       2015/11/03  \n",
       "4       2016/11/27  \n",
       "...            ...  \n",
       "161292  2015/05/31  \n",
       "161293  2011/11/01  \n",
       "161294  2014/03/15  \n",
       "161295  2015/09/19  \n",
       "161296  2014/12/13  \n",
       "\n",
       "[161297 rows x 5 columns]"
      ]
     },
     "execution_count": 17,
     "metadata": {},
     "output_type": "execute_result"
    }
   ],
   "source": [
    "final_data"
   ]
  },
  {
   "cell_type": "markdown",
   "metadata": {},
   "source": [
    "## Drop Collection"
   ]
  },
  {
   "cell_type": "code",
   "execution_count": 5,
   "metadata": {},
   "outputs": [],
   "source": [
    "db.drugs.drop()"
   ]
  }
 ],
 "metadata": {
  "kernelspec": {
   "display_name": "Python 3",
   "language": "python",
   "name": "python3"
  },
  "language_info": {
   "codemirror_mode": {
    "name": "ipython",
    "version": 3
   },
   "file_extension": ".py",
   "mimetype": "text/x-python",
   "name": "python",
   "nbconvert_exporter": "python",
   "pygments_lexer": "ipython3",
   "version": "3.7.3"
  }
 },
 "nbformat": 4,
 "nbformat_minor": 4
}
